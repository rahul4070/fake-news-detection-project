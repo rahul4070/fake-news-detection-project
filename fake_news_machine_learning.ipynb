{
 "cells": [
  {
   "cell_type": "code",
   "execution_count": 2,
   "metadata": {
    "colab": {
     "base_uri": "https://localhost:8080/"
    },
    "id": "aKnVtu0Upqbl",
    "outputId": "45060525-7a5a-43b4-9dd9-4d6b410ac13b"
   },
   "outputs": [],
   "source": [
    "from google.colab import drive\n",
    "drive.mount('/content/drive')"
   ]
  },
  {
   "cell_type": "code",
   "execution_count": 3,
   "metadata": {
    "id": "wQOSh1csbbd7"
   },
   "outputs": [],
   "source": [
    "!wget http://nlp.stanford.edu/data/glove.6B.zip - ‘glove.6B.zip’ saved [862182613/862182613]"
   ]
  },
  {
   "cell_type": "code",
   "execution_count": 4,
   "metadata": {
    "id": "JyNoDoVNbfdY"
   },
   "outputs": [],
   "source": [
    "!unzip glove.6B.zip"
   ]
  },
  {
   "cell_type": "code",
   "execution_count": 5,
   "metadata": {
    "id": "aoX2k9AfaMFk"
   },
   "outputs": [],
   "source": [
    "import warnings\n",
    "warnings.filterwarnings('ignore')\n",
    "import pandas as pd\n",
    "import numpy as np\n",
    "import joblib\n",
    "import datetime\n",
    "from sklearn.model_selection import train_test_split"
   ]
  },
  {
   "cell_type": "code",
   "execution_count": 6,
   "metadata": {
    "colab": {
     "base_uri": "https://localhost:8080/",
     "height": 354
    },
    "id": "aI2ddqaiszF_",
    "outputId": "a6c18759-a0a7-4125-a636-8cc9cfce68ce"
   },
   "outputs": [
    {
     "name": "stdout",
     "output_type": "stream",
     "text": [
      "(20800, 8)\n"
     ]
    },
    {
     "data": {
      "text/html": [
       "<div>\n",
       "<style scoped>\n",
       "    .dataframe tbody tr th:only-of-type {\n",
       "        vertical-align: middle;\n",
       "    }\n",
       "\n",
       "    .dataframe tbody tr th {\n",
       "        vertical-align: top;\n",
       "    }\n",
       "\n",
       "    .dataframe thead th {\n",
       "        text-align: right;\n",
       "    }\n",
       "</style>\n",
       "<table border=\"1\" class=\"dataframe\">\n",
       "  <thead>\n",
       "    <tr style=\"text-align: right;\">\n",
       "      <th></th>\n",
       "      <th>title</th>\n",
       "      <th>author</th>\n",
       "      <th>text</th>\n",
       "      <th>label</th>\n",
       "      <th>title_len</th>\n",
       "      <th>text_len</th>\n",
       "      <th>concat_title_text</th>\n",
       "      <th>concat_title_author</th>\n",
       "    </tr>\n",
       "  </thead>\n",
       "  <tbody>\n",
       "    <tr>\n",
       "      <th>0</th>\n",
       "      <td>house dem aide even see comey letter jason cha...</td>\n",
       "      <td>darrell lucus</td>\n",
       "      <td>house dem aide even see comey letter jason cha...</td>\n",
       "      <td>1</td>\n",
       "      <td>10</td>\n",
       "      <td>444</td>\n",
       "      <td>house dem aide even see comey letter jason cha...</td>\n",
       "      <td>house dem aide even see comey letter jason cha...</td>\n",
       "    </tr>\n",
       "    <tr>\n",
       "      <th>1</th>\n",
       "      <td>flynn hillary clinton big woman campus breitbart</td>\n",
       "      <td>daniel j flynn</td>\n",
       "      <td>ever get feeling life circle roundabout rather...</td>\n",
       "      <td>0</td>\n",
       "      <td>7</td>\n",
       "      <td>381</td>\n",
       "      <td>flynn hillary clinton big woman campus breitba...</td>\n",
       "      <td>flynn hillary clinton big woman campus breitba...</td>\n",
       "    </tr>\n",
       "    <tr>\n",
       "      <th>2</th>\n",
       "      <td>truth might get fired</td>\n",
       "      <td>consortiumnews com</td>\n",
       "      <td>truth might get fired october 29 2016 tension ...</td>\n",
       "      <td>1</td>\n",
       "      <td>4</td>\n",
       "      <td>710</td>\n",
       "      <td>truth might get fired truth might get fired oc...</td>\n",
       "      <td>truth might get fired consortiumnews com</td>\n",
       "    </tr>\n",
       "    <tr>\n",
       "      <th>3</th>\n",
       "      <td>15 civilian killed single u airstrike identified</td>\n",
       "      <td>jessica purkiss</td>\n",
       "      <td>video 15 civilian killed single u airstrike id...</td>\n",
       "      <td>1</td>\n",
       "      <td>7</td>\n",
       "      <td>321</td>\n",
       "      <td>15 civilian killed single u airstrike identifi...</td>\n",
       "      <td>15 civilian killed single u airstrike identifi...</td>\n",
       "    </tr>\n",
       "    <tr>\n",
       "      <th>4</th>\n",
       "      <td>iranian woman jailed fictional unpublished sto...</td>\n",
       "      <td>howard portnoy</td>\n",
       "      <td>print iranian woman sentenced six year prison ...</td>\n",
       "      <td>1</td>\n",
       "      <td>10</td>\n",
       "      <td>89</td>\n",
       "      <td>iranian woman jailed fictional unpublished sto...</td>\n",
       "      <td>iranian woman jailed fictional unpublished sto...</td>\n",
       "    </tr>\n",
       "  </tbody>\n",
       "</table>\n",
       "</div>"
      ],
      "text/plain": [
       "                                               title              author  \\\n",
       "0  house dem aide even see comey letter jason cha...       darrell lucus   \n",
       "1   flynn hillary clinton big woman campus breitbart      daniel j flynn   \n",
       "2                              truth might get fired  consortiumnews com   \n",
       "3   15 civilian killed single u airstrike identified     jessica purkiss   \n",
       "4  iranian woman jailed fictional unpublished sto...      howard portnoy   \n",
       "\n",
       "                                                text  label  title_len  \\\n",
       "0  house dem aide even see comey letter jason cha...      1         10   \n",
       "1  ever get feeling life circle roundabout rather...      0          7   \n",
       "2  truth might get fired october 29 2016 tension ...      1          4   \n",
       "3  video 15 civilian killed single u airstrike id...      1          7   \n",
       "4  print iranian woman sentenced six year prison ...      1         10   \n",
       "\n",
       "   text_len                                  concat_title_text  \\\n",
       "0       444  house dem aide even see comey letter jason cha...   \n",
       "1       381  flynn hillary clinton big woman campus breitba...   \n",
       "2       710  truth might get fired truth might get fired oc...   \n",
       "3       321  15 civilian killed single u airstrike identifi...   \n",
       "4        89  iranian woman jailed fictional unpublished sto...   \n",
       "\n",
       "                                 concat_title_author  \n",
       "0  house dem aide even see comey letter jason cha...  \n",
       "1  flynn hillary clinton big woman campus breitba...  \n",
       "2           truth might get fired consortiumnews com  \n",
       "3  15 civilian killed single u airstrike identifi...  \n",
       "4  iranian woman jailed fictional unpublished sto...  "
      ]
     },
     "execution_count": 6,
     "metadata": {},
     "output_type": "execute_result"
    }
   ],
   "source": [
    "df = pd.read_csv('df_preprocessed.csv')\n",
    "print(df.shape)\n",
    "df.head()"
   ]
  },
  {
   "cell_type": "code",
   "execution_count": 7,
   "metadata": {
    "id": "eBhrd8masi_9"
   },
   "outputs": [],
   "source": [
    "df.title.fillna(' ', inplace=True)\n",
    "df.text.fillna(' ', inplace=True)\n",
    "df.author.fillna(' ', inplace=True)"
   ]
  },
  {
   "cell_type": "code",
   "execution_count": 8,
   "metadata": {
    "colab": {
     "base_uri": "https://localhost:8080/"
    },
    "id": "x4xwfR8Jsbdk",
    "outputId": "ff0dde31-6460-4b95-e4a9-9b1856c29bfc"
   },
   "outputs": [
    {
     "data": {
      "text/plain": [
       "(0, 8)"
      ]
     },
     "execution_count": 8,
     "metadata": {},
     "output_type": "execute_result"
    }
   ],
   "source": [
    "df[df.isnull().any(1)].shape"
   ]
  },
  {
   "cell_type": "code",
   "execution_count": 9,
   "metadata": {
    "id": "8gEO59jMsyTv"
   },
   "outputs": [],
   "source": [
    "X, y = df.drop('label', axis=1), df.label\n",
    "x_train, x_test, y_train, y_test = train_test_split(X,y, stratify=y, test_size=0.08, random_state=23)"
   ]
  },
  {
   "cell_type": "code",
   "execution_count": 10,
   "metadata": {
    "colab": {
     "base_uri": "https://localhost:8080/"
    },
    "id": "T-T2A1DtiSCM",
    "outputId": "d30ccfb0-7dfd-46d1-eaa6-59cf27ffcb09"
   },
   "outputs": [
    {
     "data": {
      "text/plain": [
       "((19136, 7), (1664, 7), (19136,), (1664,))"
      ]
     },
     "execution_count": 10,
     "metadata": {},
     "output_type": "execute_result"
    }
   ],
   "source": [
    "x_train.shape, x_test.shape, y_train.shape, y_test.shape"
   ]
  },
  {
   "cell_type": "markdown",
   "metadata": {
    "id": "8wGXDUIuhXBg"
   },
   "source": [
    "<br><br><br>"
   ]
  },
  {
   "cell_type": "markdown",
   "metadata": {
    "id": "FWdfxFytvKk_"
   },
   "source": [
    "# Vectorization"
   ]
  },
  {
   "cell_type": "code",
   "execution_count": 11,
   "metadata": {
    "id": "xGr0rlKDv4JA"
   },
   "outputs": [],
   "source": [
    "from sklearn.feature_extraction.text import CountVectorizer\n",
    "from sklearn.feature_extraction.text import TfidfVectorizer\n",
    "from sklearn.preprocessing import MinMaxScaler\n",
    "from scipy import sparse\n",
    "from sklearn.metrics import confusion_matrix"
   ]
  },
  {
   "cell_type": "code",
   "execution_count": 12,
   "metadata": {
    "colab": {
     "base_uri": "https://localhost:8080/"
    },
    "id": "EVMXfhPw-Xz4",
    "outputId": "54ecf9df-8ee7-4771-cf03-36c55cc60e5b"
   },
   "outputs": [
    {
     "data": {
      "text/plain": [
       "['fake_news/title_len_min_max_scaler']"
      ]
     },
     "execution_count": 12,
     "metadata": {},
     "output_type": "execute_result"
    }
   ],
   "source": [
    "title_len_scaler = MinMaxScaler()\n",
    "x_train['title_len'] = title_len_scaler.fit_transform(x_train['title_len'].values.reshape(-1,1))\n",
    "x_test['title_len']  = title_len_scaler.transform(x_test['title_len'].values.reshape(-1,1))\n",
    "joblib.dump(title_len_scaler, 'fake_news/title_len_min_max_scaler')"
   ]
  },
  {
   "cell_type": "code",
   "execution_count": 13,
   "metadata": {
    "colab": {
     "base_uri": "https://localhost:8080/"
    },
    "id": "7yKD8UAuh9qj",
    "outputId": "6d1a911b-1382-4c0c-ff24-428b3d099d74"
   },
   "outputs": [
    {
     "data": {
      "text/plain": [
       "['fake_news/text_len_min_max_scaler']"
      ]
     },
     "execution_count": 13,
     "metadata": {},
     "output_type": "execute_result"
    }
   ],
   "source": [
    "text_len_scaler = MinMaxScaler()\n",
    "x_train['text_len'] = text_len_scaler.fit_transform(x_train['text_len'].values.reshape(-1,1))\n",
    "x_test['text_len']  = text_len_scaler.transform(x_test['text_len'].values.reshape(-1,1))\n",
    "joblib.dump(text_len_scaler, 'fake_news/text_len_min_max_scaler')"
   ]
  },
  {
   "cell_type": "code",
   "execution_count": 14,
   "metadata": {
    "id": "WNQdccbeMFGz"
   },
   "outputs": [],
   "source": [
    "def one_hot_encoder(train_, test_, title_name):\n",
    "  vect_ = CountVectorizer(max_features=100000,ngram_range=(1, 3))\n",
    "  train_vect = vect_.fit_transform(train_)\n",
    "  test_vect =vect_.transform(test_)\n",
    "  joblib.dump(vect_, f'fake_news/one_hot_encoder_{title_name}')\n",
    "  return train_vect, test_vect"
   ]
  },
  {
   "cell_type": "code",
   "execution_count": 15,
   "metadata": {
    "id": "FJfs_0IFrnMf"
   },
   "outputs": [],
   "source": [
    "def tfidf_encoder(train_, test_, title_name):\n",
    "  vect_ = TfidfVectorizer(max_features=100000,ngram_range=(1, 3))\n",
    "  train_vect = vect_.fit_transform(train_)\n",
    "  test_vect  = vect_.transform(test_)\n",
    "  joblib.dump(vect_, f'fake_news/tfidf_encoder_{title_name}')\n",
    "  return train_vect, test_vect"
   ]
  },
  {
   "cell_type": "code",
   "execution_count": 16,
   "metadata": {
    "id": "U9OwXZS-iZx6"
   },
   "outputs": [],
   "source": [
    "# converting to one hot encoder values\n",
    "x_train_text_one_hot, x_test_text_one_hot = one_hot_encoder(x_train.concat_title_text.values, x_test.concat_title_text.values, 'title_text')\n",
    "x_train_author_one_hot, x_test_author_one_hot = one_hot_encoder(x_train.concat_title_author.values, x_test.concat_title_author.values, 'title_author')\n"
   ]
  },
  {
   "cell_type": "code",
   "execution_count": 17,
   "metadata": {
    "id": "gVhcKTtFkUQC"
   },
   "outputs": [],
   "source": [
    "# converting to tfidf values\n",
    "x_train_text_tfidf, x_test_text_tfidf = tfidf_encoder(x_train.concat_title_text.values, x_test.concat_title_text.values, 'title_text')\n",
    "x_train_author_tfidf, x_test_author_tfidf = tfidf_encoder(x_train.concat_title_author.values, x_test.concat_title_author.values, 'title_author')"
   ]
  },
  {
   "cell_type": "code",
   "execution_count": 18,
   "metadata": {
    "colab": {
     "base_uri": "https://localhost:8080/"
    },
    "id": "LO0e0RqYpOx5",
    "outputId": "0801679e-a7aa-4a7a-9287-eb3c27287591"
   },
   "outputs": [
    {
     "data": {
      "text/plain": [
       "(<19136x100000 sparse matrix of type '<class 'numpy.int64'>'\n",
       " \twith 6986008 stored elements in Compressed Sparse Row format>,\n",
       " <1664x100000 sparse matrix of type '<class 'numpy.int64'>'\n",
       " \twith 599233 stored elements in Compressed Sparse Row format>)"
      ]
     },
     "execution_count": 18,
     "metadata": {},
     "output_type": "execute_result"
    }
   ],
   "source": [
    "x_train_text_one_hot, x_test_text_one_hot"
   ]
  },
  {
   "cell_type": "code",
   "execution_count": 19,
   "metadata": {
    "colab": {
     "base_uri": "https://localhost:8080/"
    },
    "id": "USpaG4DWsyHo",
    "outputId": "8c0325f3-841f-422d-cb9d-fc618ac62e6c"
   },
   "outputs": [
    {
     "data": {
      "text/plain": [
       "(19136, 1)"
      ]
     },
     "execution_count": 19,
     "metadata": {},
     "output_type": "execute_result"
    }
   ],
   "source": [
    "x_train.title_len.values.reshape(-1,1).shape"
   ]
  },
  {
   "cell_type": "code",
   "execution_count": 20,
   "metadata": {
    "id": "CYozzpbYu6rk"
   },
   "outputs": [],
   "source": [
    "# stacking the features horizontally\n",
    "X_train_hstack_one_hot = sparse.hstack((x_train_text_one_hot, x_train_author_one_hot, \\\n",
    "                                x_train.title_len.values.reshape(-1,1), x_train.text_len.values.reshape(-1,1))).tocsr()\n",
    "x_test_hstack_one_hot = sparse.hstack((x_test_text_one_hot, x_test_author_one_hot, \\\n",
    "                                x_test.title_len.values.reshape(-1,1), x_test.text_len.values.reshape(-1,1))).tocsr()"
   ]
  },
  {
   "cell_type": "code",
   "execution_count": 21,
   "metadata": {
    "id": "u0zO9p20qKWS"
   },
   "outputs": [],
   "source": [
    "# stacking the features horizontally\n",
    "X_train_hstack_tfidf = sparse.hstack((x_train_text_tfidf, x_train_author_tfidf, \\\n",
    "                                x_train.title_len.values.reshape(-1,1), x_train.text_len.values.reshape(-1,1))).tocsr()\n",
    "x_test_hstack_tfidf = sparse.hstack((x_test_text_tfidf, x_test_author_tfidf, \\\n",
    "                                x_test.title_len.values.reshape(-1,1), x_test.text_len.values.reshape(-1,1))).tocsr()"
   ]
  },
  {
   "cell_type": "markdown",
   "metadata": {
    "id": "kWC2WGk5pZa3"
   },
   "source": [
    "<br><br><br>"
   ]
  },
  {
   "cell_type": "markdown",
   "metadata": {
    "id": "ghjYKZhUu8Vy"
   },
   "source": [
    "# Models"
   ]
  },
  {
   "cell_type": "code",
   "execution_count": 22,
   "metadata": {
    "id": "cXoD3pgKv1az"
   },
   "outputs": [],
   "source": [
    "import itertools\n",
    "from sklearn.naive_bayes import MultinomialNB\n",
    "from sklearn.metrics import accuracy_score,classification_report\n",
    "from sklearn.ensemble import GradientBoostingClassifier\n",
    "from sklearn.linear_model import LogisticRegression\n",
    "from sklearn.svm import SVC\n",
    "from sklearn.model_selection import GridSearchCV\n",
    "from sklearn.metrics import precision_score, accuracy_score"
   ]
  },
  {
   "cell_type": "code",
   "execution_count": 23,
   "metadata": {
    "id": "DT-O_lXzu7Wk"
   },
   "outputs": [],
   "source": [
    "def hyperparameter_tuning(x, y, model, params, cv, model_name):\n",
    "    '''\n",
    "        The function is used for finding out the hyperparameters using RandomSearchCV.\n",
    "        input: data_points(x,y) to which the model has to fit, \n",
    "                model: linear_model for which the parameters are to be found,\n",
    "                params: parameters ,\n",
    "                cv: cross validation which is of int type,\n",
    "                model_name: model name of string type \n",
    "\n",
    "        returns: best_hyperparameters\n",
    "    '''\n",
    "    start_time = datetime.datetime.now()\n",
    "    clf = GridSearchCV(estimator = model, param_grid = params,n_jobs=-1, cv=cv, return_train_score=True, verbose=10)\n",
    "    clf.fit(x,y)\n",
    "    print('Calculating the parameters for {} model'.format(model_name))\n",
    "    print()\n",
    "    print('-'*40)\n",
    "    print('best hyperparameters are:-',clf.best_params_)\n",
    "    \n",
    "    print()\n",
    "    print('time taken - ',datetime.datetime.now() - start_time)\n",
    "\n",
    "    return clf"
   ]
  },
  {
   "cell_type": "code",
   "execution_count": 24,
   "metadata": {
    "id": "2IUjA1ya0LcD"
   },
   "outputs": [],
   "source": [
    "import matplotlib.pyplot as plt\n",
    "\n",
    "def plot_confusion_matrix(cm, classes,\n",
    "                          normalize=False,\n",
    "                          title='Confusion matrix',\n",
    "                          cmap=plt.cm.Purples):\n",
    "    plt.imshow(cm, interpolation='nearest', cmap=cmap)\n",
    "    plt.title(title)\n",
    "    plt.colorbar()\n",
    "    tick_marks = np.arange(len(classes))\n",
    "    plt.xticks(tick_marks, classes, rotation=45)\n",
    "    plt.yticks(tick_marks, classes)\n",
    "\n",
    "    if normalize:\n",
    "        cm = cm.astype('float') / cm.sum(axis=1)[:, np.newaxis]\n",
    "        print(\"Normalized confusion matrix\")\n",
    "    else:\n",
    "        print('Confusion matrix, without normalization')\n",
    "\n",
    "    thresh = cm.max() / 2.\n",
    "    for i, j in itertools.product(range(cm.shape[0]), range(cm.shape[1])):\n",
    "        plt.text(j, i, cm[i, j],\n",
    "                 horizontalalignment=\"center\",\n",
    "                 color=\"white\" if cm[i, j] > thresh else \"black\")\n",
    "\n",
    "    plt.tight_layout()\n",
    "    plt.ylabel('True label')\n",
    "    plt.xlabel('Predicted label')"
   ]
  },
  {
   "cell_type": "code",
   "execution_count": 25,
   "metadata": {
    "id": "7OGXBJ7TvHrk"
   },
   "outputs": [],
   "source": [
    "def model_training(clf, X_train, y_train, X_test, y_test):\n",
    "  print('------------------------fitting the data to classifier------------------------')\n",
    "  clf.fit(X_train, y_train)\n",
    "  print('------------------------predicting the test data------------------------')\n",
    "  y_pred = clf.predict(X_test)\n",
    "  accuracy = accuracy_score(y_test, y_pred)\n",
    "  precision = precision_score(y_test, y_pred)\n",
    "  print('------------------------plotting the confusion matrix------------------------')\n",
    "  cm1 = confusion_matrix(y_test, y_pred.reshape(-1,1))\n",
    "  plot_confusion_matrix(cm1, classes=['fake', 'real'])\n",
    "  return accuracy, precision, clf"
   ]
  },
  {
   "cell_type": "markdown",
   "metadata": {
    "id": "ioV5QAoHpc2f"
   },
   "source": [
    "<br><br>"
   ]
  },
  {
   "cell_type": "markdown",
   "metadata": {
    "id": "iIQuR7Kf4kJd"
   },
   "source": [
    "# Baseline model:- Multinomial Naive Bayes"
   ]
  },
  {
   "cell_type": "code",
   "execution_count": null,
   "metadata": {
    "id": "6Whnj_th8ugc"
   },
   "outputs": [],
   "source": [
    "model_dict = {}\n",
    "\n",
    "model_dict['model'] = list()\n",
    "model_dict['feature_extraction'] = list()\n",
    "model_dict['accuracy'] = list()\n",
    "model_dict['precision'] = list()"
   ]
  },
  {
   "cell_type": "code",
   "execution_count": null,
   "metadata": {
    "colab": {
     "base_uri": "https://localhost:8080/"
    },
    "id": "FWyNqgSs4nGy",
    "outputId": "1117f7a0-993b-4c4b-b609-9e50d7b66444"
   },
   "outputs": [
    {
     "name": "stdout",
     "output_type": "stream",
     "text": [
      "Calculating the parameters for multinomial_nb model\n",
      "\n",
      "----------------------------------------\n",
      "best hyperparameters are:- {'alpha': 0.0001}\n",
      "\n",
      "time taken -  0:00:04.171661\n"
     ]
    }
   ],
   "source": [
    "parameters = {  \n",
    "'alpha': (1, 0.1, 0.01, 0.001, 0.0001, 0.00001)  \n",
    "} \n",
    "model = MultinomialNB()\n",
    "best_params = hyperparameter_tuning(X_train_hstack_one_hot, y_train, model, parameters, 3, 'multinomial_nb') "
   ]
  },
  {
   "cell_type": "code",
   "execution_count": 26,
   "metadata": {
    "colab": {
     "base_uri": "https://localhost:8080/",
     "height": 415
    },
    "id": "B3JVK02X5BKl",
    "outputId": "df3a7f98-d817-4ba1-e399-baa332ff6a4b"
   },
   "outputs": [
    {
     "name": "stdout",
     "output_type": "stream",
     "text": [
      "------------------------fitting the data to classifier------------------------\n",
      "------------------------predicting the test data------------------------\n",
      "------------------------plotting the confusion matrix------------------------\n",
      "Confusion matrix, without normalization\n",
      "accuracy:- 0.9699519230769231\n",
      "precision:- 0.9851301115241635\n"
     ]
    },
    {
     "data": {
      "image/png": "[encoded data removed]",
      "text/plain": [
       "<Figure size 432x288 with 2 Axes>"
      ]
     },
     "metadata": {
      "needs_background": "light"
     },
     "output_type": "display_data"
    }
   ],
   "source": [
    "model_nb_one_hot = MultinomialNB(alpha=0.001)\n",
    "acc, pre, classifier = model_training(model_nb_one_hot, X_train_hstack_one_hot, y_train, x_test_hstack_one_hot, y_test)\n",
    "joblib.dump(classifier, 'fake_news/model_nb_one_hot')\n",
    "print('accuracy:-', acc)\n",
    "print('precision:-', pre)\n",
    "\n",
    "# model_dict['model'].append('naive bayes')\n",
    "# model_dict['feature_extraction'].append('one hot encoding')\n",
    "# model_dict['accuracy'].append(acc)\n",
    "# model_dict['precision'].append(pre)"
   ]
  },
  {
   "cell_type": "code",
   "execution_count": null,
   "metadata": {
    "colab": {
     "base_uri": "https://localhost:8080/"
    },
    "id": "FL_R1qpswCw4",
    "outputId": "36db0c7c-26e1-4ff2-be68-44dfcddf9aa0"
   },
   "outputs": [
    {
     "name": "stdout",
     "output_type": "stream",
     "text": [
      "Calculating the parameters for multinomial_nb model\n",
      "\n",
      "----------------------------------------\n",
      "best hyperparameters are:- {'alpha': 0.1}\n",
      "\n",
      "time taken -  0:00:02.775051\n"
     ]
    }
   ],
   "source": [
    "parameters = {  \n",
    "'alpha': (1, 0.1, 0.01, 0.001, 0.0001, 0.00001)  \n",
    "} \n",
    "model = MultinomialNB()\n",
    "best_params = hyperparameter_tuning(X_train_hstack_tfidf, y_train, model, parameters, 3, 'multinomial_nb') "
   ]
  },
  {
   "cell_type": "code",
   "execution_count": 27,
   "metadata": {
    "colab": {
     "base_uri": "https://localhost:8080/",
     "height": 415
    },
    "id": "S28kInmRqomF",
    "outputId": "26fd70d1-9ca7-4c83-c095-75761c34deb1"
   },
   "outputs": [
    {
     "name": "stdout",
     "output_type": "stream",
     "text": [
      "------------------------fitting the data to classifier------------------------\n",
      "------------------------predicting the test data------------------------\n",
      "------------------------plotting the confusion matrix------------------------\n",
      "Confusion matrix, without normalization\n",
      "accuracy:- 0.9789663461538461\n",
      "precision:- 0.9975062344139651\n"
     ]
    },
    {
     "data": {
      "image/png": "[encoded data removed]",
      "text/plain": [
       "<Figure size 432x288 with 2 Axes>"
      ]
     },
     "metadata": {
      "needs_background": "light"
     },
     "output_type": "display_data"
    }
   ],
   "source": [
    "model_nb_tfidf = MultinomialNB(alpha=0.1)\n",
    "acc, pre, classifier = model_training(model_nb_tfidf, X_train_hstack_tfidf, y_train, x_test_hstack_tfidf, y_test)\n",
    "joblib.dump(classifier, 'fake_news/model_nb_tfidf')\n",
    "print('accuracy:-', acc)\n",
    "print('precision:-', pre)\n",
    "\n",
    "# model_dict['model'].append('naive bayes')\n",
    "# model_dict['feature_extraction'].append('tfidf encoding')\n",
    "# model_dict['accuracy'].append(acc)\n",
    "# model_dict['precision'].append(pre)"
   ]
  },
  {
   "cell_type": "markdown",
   "metadata": {
    "id": "wVa4hZ3qpgia"
   },
   "source": [
    "<br><br>"
   ]
  },
  {
   "cell_type": "markdown",
   "metadata": {
    "id": "zNx2dqo54hGb"
   },
   "source": [
    "# Logistic Regression"
   ]
  },
  {
   "cell_type": "code",
   "execution_count": null,
   "metadata": {
    "colab": {
     "base_uri": "https://localhost:8080/"
    },
    "id": "sfSbXyPMvHoC",
    "outputId": "f9f8cdf8-0bd1-4cae-96cc-481ecfe8b4d1"
   },
   "outputs": [
    {
     "name": "stdout",
     "output_type": "stream",
     "text": [
      "Calculating the parameters for logistic_regression model\n",
      "\n",
      "----------------------------------------\n",
      "best hyperparameters are:- {'C': 100, 'penalty': 'l1', 'solver': 'liblinear'}\n",
      "\n",
      "time taken -  0:15:39.625673\n"
     ]
    }
   ],
   "source": [
    "model = LogisticRegression()\n",
    "space = dict()\n",
    "space['solver'] = ['newton-cg', 'lbfgs', 'liblinear']\n",
    "space['penalty'] = ['none', 'l1', 'l2', 'elasticnet']\n",
    "space['C'] = [0.0001, 0.001, 0.01, 0.01, 0.1, 1, 10, 100]\n",
    "best_params = hyperparameter_tuning(X_train_hstack_one_hot, y_train, model, space, 3, 'logistic_regression') "
   ]
  },
  {
   "cell_type": "code",
   "execution_count": null,
   "metadata": {
    "id": "GI1bsnB_2B_E"
   },
   "outputs": [],
   "source": [
    "import warnings\n",
    "warnings.filterwarnings('ignore')"
   ]
  },
  {
   "cell_type": "code",
   "execution_count": 28,
   "metadata": {
    "colab": {
     "base_uri": "https://localhost:8080/",
     "height": 415
    },
    "id": "nJaRhHG7zgvm",
    "outputId": "8f5d0695-3742-4ab9-ed77-5377dccba592"
   },
   "outputs": [
    {
     "name": "stdout",
     "output_type": "stream",
     "text": [
      "------------------------fitting the data to classifier------------------------\n",
      "------------------------predicting the test data------------------------\n",
      "------------------------plotting the confusion matrix------------------------\n",
      "Confusion matrix, without normalization\n",
      "accuracy:- 0.9957932692307693\n",
      "precision:- 0.9940191387559809\n"
     ]
    },
    {
     "data": {
      "image/png": "[encoded data removed]",
      "text/plain": [
       "<Figure size 432x288 with 2 Axes>"
      ]
     },
     "metadata": {
      "needs_background": "light"
     },
     "output_type": "display_data"
    }
   ],
   "source": [
    "model_lr_one_hot = LogisticRegression(C=100, penalty='l1', solver='liblinear')\n",
    "acc, pre, classifier = model_training(model_lr_one_hot,  X_train_hstack_one_hot, y_train, x_test_hstack_one_hot, y_test)\n",
    "joblib.dump(classifier, 'fake_news/model_lr_one_hot')\n",
    "print('accuracy:-', acc)\n",
    "print('precision:-', pre)\n",
    "\n",
    "# model_dict['model'].append('logistic regression')\n",
    "# model_dict['feature_extraction'].append('one hot encoding')\n",
    "# model_dict['accuracy'].append(acc)\n",
    "# model_dict['precision'].append(pre)"
   ]
  },
  {
   "cell_type": "code",
   "execution_count": null,
   "metadata": {
    "colab": {
     "base_uri": "https://localhost:8080/"
    },
    "id": "v5G8gZn9wmEu",
    "outputId": "e58c2ce4-ced0-43ba-b1ac-467b1e85b242"
   },
   "outputs": [
    {
     "name": "stdout",
     "output_type": "stream",
     "text": [
      "Calculating the parameters for logistic_regression model\n",
      "\n",
      "----------------------------------------\n",
      "best hyperparameters are:- {'C': 0.0001, 'penalty': 'none', 'solver': 'newton-cg'}\n",
      "\n",
      "time taken -  0:04:45.409014\n"
     ]
    }
   ],
   "source": [
    "model = LogisticRegression()\n",
    "space = dict()\n",
    "space['solver'] = ['newton-cg', 'lbfgs', 'liblinear']\n",
    "space['penalty'] = ['none', 'l1', 'l2', 'elasticnet']\n",
    "space['C'] = [0.0001, 0.01, 0.1, 1, 10, 100]\n",
    "best_params = hyperparameter_tuning(X_train_hstack_tfidf, y_train, model, space, 3, 'logistic_regression') "
   ]
  },
  {
   "cell_type": "code",
   "execution_count": 29,
   "metadata": {
    "colab": {
     "base_uri": "https://localhost:8080/",
     "height": 415
    },
    "id": "lDQQ4GkyzgsN",
    "outputId": "60e5e4f3-3540-4de6-d3ec-fba37fab7a9f"
   },
   "outputs": [
    {
     "name": "stdout",
     "output_type": "stream",
     "text": [
      "------------------------fitting the data to classifier------------------------\n",
      "------------------------predicting the test data------------------------\n",
      "------------------------plotting the confusion matrix------------------------\n",
      "Confusion matrix, without normalization\n",
      "accuracy:- 0.9951923076923077\n",
      "precision:- 0.9951980792316927\n"
     ]
    },
    {
     "data": {
      "image/png": "[encoded data removed]",
      "text/plain": [
       "<Figure size 432x288 with 2 Axes>"
      ]
     },
     "metadata": {
      "needs_background": "light"
     },
     "output_type": "display_data"
    }
   ],
   "source": [
    "model_lr_tfidf = LogisticRegression(C = 0.0001, penalty = 'none', solver= 'newton-cg')\n",
    "acc, pre, classifier = model_training(model_lr_tfidf,  X_train_hstack_tfidf, y_train, x_test_hstack_tfidf, y_test)\n",
    "joblib.dump(classifier, 'fake_news/model_lr_tfidf')\n",
    "print('accuracy:-', acc)\n",
    "print('precision:-', pre)\n",
    "\n",
    "# model_dict['model'].append('logistic regression')\n",
    "# model_dict['feature_extraction'].append('tfidf encoding')\n",
    "# model_dict['accuracy'].append(acc)\n",
    "# model_dict['precision'].append(pre)"
   ]
  },
  {
   "cell_type": "markdown",
   "metadata": {
    "id": "Sfs8BhuFpiI_"
   },
   "source": [
    "<br><br>"
   ]
  },
  {
   "cell_type": "markdown",
   "metadata": {
    "id": "wD985bbZ5vRY"
   },
   "source": [
    "# SVM"
   ]
  },
  {
   "cell_type": "code",
   "execution_count": 26,
   "metadata": {
    "colab": {
     "base_uri": "https://localhost:8080/"
    },
    "id": "V6_q7GYA5xEQ",
    "outputId": "95bfa442-8155-4e90-8d7f-4af882d6f130"
   },
   "outputs": [
    {
     "name": "stdout",
     "output_type": "stream",
     "text": [
      "Calculating the parameters for svc model\n",
      "\n",
      "----------------------------------------\n",
      "best hyperparameters are:- {'C': 0.1, 'gamma': 1, 'kernel': 'linear'}\n",
      "\n",
      "time taken -  3:22:03.791715\n"
     ]
    }
   ],
   "source": [
    "model = SVC()\n",
    "param_grid = {'C': [0.1, 1, 10, 100, 1000],\n",
    "              'gamma': [1, 0.1, 0.01, 0.001, 0.0001],\n",
    "              'kernel': ['linear']}\n",
    "\n",
    "best_params = hyperparameter_tuning(X_train_hstack_one_hot, y_train, model, param_grid, 3, 'svc') "
   ]
  },
  {
   "cell_type": "code",
   "execution_count": 30,
   "metadata": {
    "colab": {
     "base_uri": "https://localhost:8080/",
     "height": 633
    },
    "id": "jQFLd89q5xuN",
    "outputId": "0344e7cf-9790-4a17-b3ad-dc626232beee"
   },
   "outputs": [
    {
     "name": "stdout",
     "output_type": "stream",
     "text": [
      "------------------------fitting the data to classifier------------------------\n",
      "------------------------predicting the test data------------------------\n",
      "------------------------plotting the confusion matrix------------------------\n",
      "Confusion matrix, without normalization\n",
      "accuracy:- 0.9861778846153846\n",
      "precision:- 0.9821428571428571\n"
     ]
    },
    {
     "data": {
      "image/png": "[encoded data removed]",
      "text/plain": [
       "<Figure size 432x288 with 2 Axes>"
      ]
     },
     "metadata": {
      "needs_background": "light"
     },
     "output_type": "display_data"
    }
   ],
   "source": [
    "model_svc_one_hot = SVC(C = 0.1, gamma=1, kernel='linear')\n",
    "acc, pre, classifier = model_training(model_svc_one_hot,  X_train_hstack_one_hot, y_train, x_test_hstack_one_hot, y_test)\n",
    "joblib.dump(classifier, 'fake_news/model_svc_one_hot')\n",
    "print('accuracy:-', acc)\n",
    "print('precision:-', pre)\n",
    "\n",
    "# model_dict['model'].append('svm')\n",
    "# model_dict['feature_extraction'].append('one hot encoding')\n",
    "# model_dict['accuracy'].append(acc)\n",
    "# model_dict['precision'].append(pre)"
   ]
  },
  {
   "cell_type": "code",
   "execution_count": 25,
   "metadata": {
    "id": "BRLx3nWfyoWL"
   },
   "outputs": [
    {
     "name": "stdout",
     "output_type": "stream",
     "text": [
      "Calculating the parameters for svc model\n",
      "\n",
      "----------------------------------------\n",
      "best hyperparameters are:- {'C': 10, 'gamma': 1, 'kernel': 'linear'}\n",
      "\n",
      "time taken -  8:58:01.140212\n"
     ]
    }
   ],
   "source": [
    "model = SVC()\n",
    "param_grid = {'C': [0.1, 1, 10, 100, 1000],\n",
    "              'gamma': [1, 0.1, 0.01, 0.001, 0.0001],\n",
    "              'kernel': ['linear']}\n",
    "\n",
    "best_params = hyperparameter_tuning(X_train_hstack_tfidf, y_train, model, param_grid, 3, 'svc') "
   ]
  },
  {
   "cell_type": "code",
   "execution_count": 26,
   "metadata": {
    "id": "xL6xLIPs5xq4"
   },
   "outputs": [
    {
     "name": "stdout",
     "output_type": "stream",
     "text": [
      "------------------------fitting the data to classifier------------------------\n",
      "------------------------predicting the test data------------------------\n",
      "------------------------plotting the confusion matrix------------------------\n",
      "Confusion matrix, without normalization\n",
      "accuracy:- 0.9951923076923077\n",
      "precision:- 0.9951980792316927\n"
     ]
    },
    {
     "data": {
      "image/png": "[encoded data removed]",
      "text/plain": [
       "<Figure size 432x288 with 2 Axes>"
      ]
     },
     "metadata": {
      "needs_background": "light"
     },
     "output_type": "display_data"
    }
   ],
   "source": [
    "model_svc_tfidf = SVC(C = 10, gamma=1, kernel='linear')\n",
    "acc, pre, classifier = model_training(model_svc_tfidf,  X_train_hstack_tfidf, y_train, x_test_hstack_tfidf, y_test)\n",
    "joblib.dump(classifier, 'fake_news/model_svc_tfidf')\n",
    "print('accuracy:-', acc)\n",
    "print('precision:-', pre)\n",
    "\n",
    "# model_dict['model'].append('svm')\n",
    "# model_dict['feature_extraction'].append('tfidf encoding')\n",
    "# model_dict['accuracy'].append(acc)\n",
    "# model_dict['precision'].append(pre)"
   ]
  },
  {
   "cell_type": "markdown",
   "metadata": {
    "id": "ZbudGHotpjMD"
   },
   "source": [
    "<br><br>"
   ]
  },
  {
   "cell_type": "markdown",
   "metadata": {
    "id": "QbOfXgjRzhSU"
   },
   "source": [
    "# GradientBoostingclassifier"
   ]
  },
  {
   "cell_type": "code",
   "execution_count": 26,
   "metadata": {
    "id": "DcUYoyljzfVV"
   },
   "outputs": [
    {
     "name": "stdout",
     "output_type": "stream",
     "text": [
      "------------------------fitting the data to classifier------------------------\n",
      "------------------------predicting the test data------------------------\n",
      "------------------------plotting the confusion matrix------------------------\n",
      "Confusion matrix, without normalization\n",
      "accuracy:- 0.9957932692307693\n",
      "precision:- 0.9963942307692307\n"
     ]
    },
    {
     "data": {
      "image/png": "[encoded data removed]",
      "text/plain": [
       "<Figure size 432x288 with 2 Axes>"
      ]
     },
     "metadata": {
      "needs_background": "light"
     },
     "output_type": "display_data"
    }
   ],
   "source": [
    "model_gbc_one_hot = GradientBoostingClassifier(n_estimators=1000)\n",
    "acc, pre, classifier = model_training(model_gbc_one_hot,  X_train_hstack_one_hot, y_train, x_test_hstack_one_hot, y_test)\n",
    "joblib.dump(classifier, 'fake_news/model_gbc_one_hot')\n",
    "print('accuracy:-', acc)\n",
    "print('precision:-', pre)\n"
   ]
  },
  {
   "cell_type": "code",
   "execution_count": 27,
   "metadata": {
    "id": "cz5FziZ0uWi8"
   },
   "outputs": [
    {
     "name": "stdout",
     "output_type": "stream",
     "text": [
      "------------------------fitting the data to classifier------------------------\n",
      "------------------------predicting the test data------------------------\n",
      "------------------------plotting the confusion matrix------------------------\n",
      "Confusion matrix, without normalization\n",
      "accuracy:- 0.9933894230769231\n",
      "precision:- 0.9928057553956835\n"
     ]
    },
    {
     "data": {
      "image/png": "[encoded data removed]",
      "text/plain": [
       "<Figure size 432x288 with 2 Axes>"
      ]
     },
     "metadata": {
      "needs_background": "light"
     },
     "output_type": "display_data"
    }
   ],
   "source": [
    "model_gbc_tfidf = GradientBoostingClassifier(n_estimators=1000)\n",
    "acc, pre, classifier = model_training(model_gbc_tfidf,  X_train_hstack_tfidf, y_train, x_test_hstack_tfidf, y_test)\n",
    "joblib.dump(classifier, 'fake_news/model_gbc_tfifdf')\n",
    "print('accuracy:-', acc)\n",
    "print('precision:-', pre)\n",
    "\n",
    "# model_dict['model'].append('GradientBoostingclassifier')\n",
    "# model_dict['feature_extraction'].append('tfidf encoding')\n",
    "# model_dict['accuracy'].append(acc)\n",
    "# model_dict['precision'].append(pre)"
   ]
  },
  {
   "cell_type": "markdown",
   "metadata": {
    "id": "sG8v4drppkyQ"
   },
   "source": [
    "<br><br>"
   ]
  }
 ],
 "metadata": {
  "colab": {
   "collapsed_sections": [],
   "name": "fake_news_machine_learning.ipynb",
   "provenance": []
  },
  "kernelspec": {
   "display_name": "Python 3 (ipykernel)",
   "language": "python",
   "name": "python3"
  },
  "language_info": {
   "codemirror_mode": {
    "name": "ipython",
    "version": 3
   },
   "file_extension": ".py",
   "mimetype": "text/x-python",
   "name": "python",
   "nbconvert_exporter": "python",
   "pygments_lexer": "ipython3",
   "version": "3.10.0"
  }
 },
 "nbformat": 4,
 "nbformat_minor": 1
}
