{
  "nbformat": 4,
  "nbformat_minor": 0,
  "metadata": {
    "colab": {
      "name": "fake_news_ensemble.ipynb",
      "provenance": [],
      "mount_file_id": "1McO5jo5EpYvFZ8ocNaLsI6bdcrfC9qV4",
      "authorship_tag": "ABX9TyOWqTq93JL4Mwz6S0LjRmci",
      "include_colab_link": true
    },
    "kernelspec": {
      "name": "python3",
      "display_name": "Python 3"
    },
    "language_info": {
      "name": "python"
    }
  },
  "cells": [
    {
      "cell_type": "markdown",
      "metadata": {
        "id": "view-in-github",
        "colab_type": "text"
      },
      "source": [
        "<a href=\"https://colab.research.google.com/github/rahul4070/fake-news-detection-project/blob/main/fake_news_ensemble.ipynb\" target=\"_parent\"><img src=\"https://colab.research.google.com/assets/colab-badge.svg\" alt=\"Open In Colab\"/></a>"
      ]
    },
    {
      "cell_type": "code",
      "execution_count": 1,
      "metadata": {
        "colab": {
          "base_uri": "https://localhost:8080/"
        },
        "id": "w2smusJKIe-r",
        "outputId": "dcfd0c52-df35-4f38-e973-4937069a23c9"
      },
      "outputs": [
        {
          "output_type": "stream",
          "name": "stdout",
          "text": [
            "--2022-02-24 10:25:58--  https://storage.googleapis.com/kaggle-competitions-data/kaggle-v2/8317/109592/compressed/test.csv.zip?GoogleAccessId=web-data@kaggle-161607.iam.gserviceaccount.com&Expires=1645938675&Signature=ZZP8hePb494KAbLI8jv%2FKWVAWf6WG5kfiNz%2F7%2FiILIPUlC6bDQsMuQY%2FiOcKg%2FuV9FDMy%2BhqaNtz4iteegGYA%2FKYBC0Un7sHBHgqUENkQkJ%2Bnvgd4AGTmmgZVjAUkx0kHzi0ZPQW7BE7IxnJ3XlSc0%2FAKQheDfMfWSSTdIqRTjH1VkL1HIOqabwDmRk8FgJ%2BDb3Qb4gv%2FjgZLqpGmTbOo2RBuVSG%2FNQUUWjMXXmS0pH%2FnwQbf2fQh5AkOtNnEIRlbyO%2FC3jM18fgCBDWXpAZX2bnAhBTuUUxQpfhYa4jbkckRdbjHJtxrAMLvVBiaDFjZqelZcktuliZ4sXhd2OqeA%3D%3D&response-content-disposition=attachment%3B+filename%3Dtest.csv.zip\n",
            "Resolving storage.googleapis.com (storage.googleapis.com)... 74.125.203.128, 74.125.204.128, 64.233.189.128, ...\n",
            "Connecting to storage.googleapis.com (storage.googleapis.com)|74.125.203.128|:443... connected.\n",
            "HTTP request sent, awaiting response... 200 OK\n",
            "Length: 9872852 (9.4M) [application/zip]\n",
            "Saving to: ‘test.csv.zip’\n",
            "\n",
            "test.csv.zip        100%[===================>]   9.42M  7.40MB/s    in 1.3s    \n",
            "\n",
            "2022-02-24 10:26:00 (7.40 MB/s) - ‘test.csv.zip’ saved [9872852/9872852]\n",
            "\n"
          ]
        }
      ],
      "source": [
        "# getting the test files\n",
        "!wget --header=\"Host: storage.googleapis.com\" --header=\"User-Agent: Mozilla/5.0 (Windows NT 10.0; Win64; x64) AppleWebKit/537.36 (KHTML, like Gecko) Chrome/98.0.4758.82 Safari/537.36\" --header=\"Accept: text/html,application/xhtml+xml,application/xml;q=0.9,image/avif,image/webp,image/apng,*/*;q=0.8,application/signed-exchange;v=b3;q=0.9\" --header=\"Accept-Language: en-US,en;q=0.9\" --header=\"Referer: https://www.kaggle.com/\" \"https://storage.googleapis.com/kaggle-competitions-data/kaggle-v2/8317/109592/compressed/test.csv.zip?GoogleAccessId=web-data@kaggle-161607.iam.gserviceaccount.com&Expires=1645938675&Signature=ZZP8hePb494KAbLI8jv%2FKWVAWf6WG5kfiNz%2F7%2FiILIPUlC6bDQsMuQY%2FiOcKg%2FuV9FDMy%2BhqaNtz4iteegGYA%2FKYBC0Un7sHBHgqUENkQkJ%2Bnvgd4AGTmmgZVjAUkx0kHzi0ZPQW7BE7IxnJ3XlSc0%2FAKQheDfMfWSSTdIqRTjH1VkL1HIOqabwDmRk8FgJ%2BDb3Qb4gv%2FjgZLqpGmTbOo2RBuVSG%2FNQUUWjMXXmS0pH%2FnwQbf2fQh5AkOtNnEIRlbyO%2FC3jM18fgCBDWXpAZX2bnAhBTuUUxQpfhYa4jbkckRdbjHJtxrAMLvVBiaDFjZqelZcktuliZ4sXhd2OqeA%3D%3D&response-content-disposition=attachment%3B+filename%3Dtest.csv.zip\" -c -O 'test.csv.zip'"
      ]
    },
    {
      "cell_type": "code",
      "source": [
        "!unzip test.csv.zip"
      ],
      "metadata": {
        "colab": {
          "base_uri": "https://localhost:8080/"
        },
        "id": "not4UXsQJEdo",
        "outputId": "4950c40a-bd8f-4d36-b667-b3fabd6b143d"
      },
      "execution_count": 2,
      "outputs": [
        {
          "output_type": "stream",
          "name": "stdout",
          "text": [
            "Archive:  test.csv.zip\n",
            "  inflating: test.csv                \n"
          ]
        }
      ]
    },
    {
      "cell_type": "code",
      "source": [
        "import pandas as pd\n",
        "import numpy as np\n",
        "from tqdm import tqdm\n",
        "from scipy import sparse\n",
        "import joblib\n",
        "tqdm.pandas()"
      ],
      "metadata": {
        "id": "dsaJ2Rc3JaXc"
      },
      "execution_count": 10,
      "outputs": []
    },
    {
      "cell_type": "code",
      "source": [
        "df = pd.read_csv('test.csv')\n",
        "df.head()"
      ],
      "metadata": {
        "colab": {
          "base_uri": "https://localhost:8080/",
          "height": 206
        },
        "id": "pbnxf2P1JNWW",
        "outputId": "877931fb-7072-41f1-cfb0-87397de9ddcd"
      },
      "execution_count": 4,
      "outputs": [
        {
          "output_type": "execute_result",
          "data": {
            "text/html": [
              "\n",
              "  <div id=\"df-c16b1e78-7b8b-4b7b-97c5-1add8c0856fc\">\n",
              "    <div class=\"colab-df-container\">\n",
              "      <div>\n",
              "<style scoped>\n",
              "    .dataframe tbody tr th:only-of-type {\n",
              "        vertical-align: middle;\n",
              "    }\n",
              "\n",
              "    .dataframe tbody tr th {\n",
              "        vertical-align: top;\n",
              "    }\n",
              "\n",
              "    .dataframe thead th {\n",
              "        text-align: right;\n",
              "    }\n",
              "</style>\n",
              "<table border=\"1\" class=\"dataframe\">\n",
              "  <thead>\n",
              "    <tr style=\"text-align: right;\">\n",
              "      <th></th>\n",
              "      <th>id</th>\n",
              "      <th>title</th>\n",
              "      <th>author</th>\n",
              "      <th>text</th>\n",
              "    </tr>\n",
              "  </thead>\n",
              "  <tbody>\n",
              "    <tr>\n",
              "      <th>0</th>\n",
              "      <td>20800</td>\n",
              "      <td>Specter of Trump Loosens Tongues, if Not Purse...</td>\n",
              "      <td>David Streitfeld</td>\n",
              "      <td>PALO ALTO, Calif.  —   After years of scorning...</td>\n",
              "    </tr>\n",
              "    <tr>\n",
              "      <th>1</th>\n",
              "      <td>20801</td>\n",
              "      <td>Russian warships ready to strike terrorists ne...</td>\n",
              "      <td>NaN</td>\n",
              "      <td>Russian warships ready to strike terrorists ne...</td>\n",
              "    </tr>\n",
              "    <tr>\n",
              "      <th>2</th>\n",
              "      <td>20802</td>\n",
              "      <td>#NoDAPL: Native American Leaders Vow to Stay A...</td>\n",
              "      <td>Common Dreams</td>\n",
              "      <td>Videos #NoDAPL: Native American Leaders Vow to...</td>\n",
              "    </tr>\n",
              "    <tr>\n",
              "      <th>3</th>\n",
              "      <td>20803</td>\n",
              "      <td>Tim Tebow Will Attempt Another Comeback, This ...</td>\n",
              "      <td>Daniel Victor</td>\n",
              "      <td>If at first you don’t succeed, try a different...</td>\n",
              "    </tr>\n",
              "    <tr>\n",
              "      <th>4</th>\n",
              "      <td>20804</td>\n",
              "      <td>Keiser Report: Meme Wars (E995)</td>\n",
              "      <td>Truth Broadcast Network</td>\n",
              "      <td>42 mins ago 1 Views 0 Comments 0 Likes 'For th...</td>\n",
              "    </tr>\n",
              "  </tbody>\n",
              "</table>\n",
              "</div>\n",
              "      <button class=\"colab-df-convert\" onclick=\"convertToInteractive('df-c16b1e78-7b8b-4b7b-97c5-1add8c0856fc')\"\n",
              "              title=\"Convert this dataframe to an interactive table.\"\n",
              "              style=\"display:none;\">\n",
              "        \n",
              "  <svg xmlns=\"http://www.w3.org/2000/svg\" height=\"24px\"viewBox=\"0 0 24 24\"\n",
              "       width=\"24px\">\n",
              "    <path d=\"M0 0h24v24H0V0z\" fill=\"none\"/>\n",
              "    <path d=\"M18.56 5.44l.94 2.06.94-2.06 2.06-.94-2.06-.94-.94-2.06-.94 2.06-2.06.94zm-11 1L8.5 8.5l.94-2.06 2.06-.94-2.06-.94L8.5 2.5l-.94 2.06-2.06.94zm10 10l.94 2.06.94-2.06 2.06-.94-2.06-.94-.94-2.06-.94 2.06-2.06.94z\"/><path d=\"M17.41 7.96l-1.37-1.37c-.4-.4-.92-.59-1.43-.59-.52 0-1.04.2-1.43.59L10.3 9.45l-7.72 7.72c-.78.78-.78 2.05 0 2.83L4 21.41c.39.39.9.59 1.41.59.51 0 1.02-.2 1.41-.59l7.78-7.78 2.81-2.81c.8-.78.8-2.07 0-2.86zM5.41 20L4 18.59l7.72-7.72 1.47 1.35L5.41 20z\"/>\n",
              "  </svg>\n",
              "      </button>\n",
              "      \n",
              "  <style>\n",
              "    .colab-df-container {\n",
              "      display:flex;\n",
              "      flex-wrap:wrap;\n",
              "      gap: 12px;\n",
              "    }\n",
              "\n",
              "    .colab-df-convert {\n",
              "      background-color: #E8F0FE;\n",
              "      border: none;\n",
              "      border-radius: 50%;\n",
              "      cursor: pointer;\n",
              "      display: none;\n",
              "      fill: #1967D2;\n",
              "      height: 32px;\n",
              "      padding: 0 0 0 0;\n",
              "      width: 32px;\n",
              "    }\n",
              "\n",
              "    .colab-df-convert:hover {\n",
              "      background-color: #E2EBFA;\n",
              "      box-shadow: 0px 1px 2px rgba(60, 64, 67, 0.3), 0px 1px 3px 1px rgba(60, 64, 67, 0.15);\n",
              "      fill: #174EA6;\n",
              "    }\n",
              "\n",
              "    [theme=dark] .colab-df-convert {\n",
              "      background-color: #3B4455;\n",
              "      fill: #D2E3FC;\n",
              "    }\n",
              "\n",
              "    [theme=dark] .colab-df-convert:hover {\n",
              "      background-color: #434B5C;\n",
              "      box-shadow: 0px 1px 3px 1px rgba(0, 0, 0, 0.15);\n",
              "      filter: drop-shadow(0px 1px 2px rgba(0, 0, 0, 0.3));\n",
              "      fill: #FFFFFF;\n",
              "    }\n",
              "  </style>\n",
              "\n",
              "      <script>\n",
              "        const buttonEl =\n",
              "          document.querySelector('#df-c16b1e78-7b8b-4b7b-97c5-1add8c0856fc button.colab-df-convert');\n",
              "        buttonEl.style.display =\n",
              "          google.colab.kernel.accessAllowed ? 'block' : 'none';\n",
              "\n",
              "        async function convertToInteractive(key) {\n",
              "          const element = document.querySelector('#df-c16b1e78-7b8b-4b7b-97c5-1add8c0856fc');\n",
              "          const dataTable =\n",
              "            await google.colab.kernel.invokeFunction('convertToInteractive',\n",
              "                                                     [key], {});\n",
              "          if (!dataTable) return;\n",
              "\n",
              "          const docLinkHtml = 'Like what you see? Visit the ' +\n",
              "            '<a target=\"_blank\" href=https://colab.research.google.com/notebooks/data_table.ipynb>data table notebook</a>'\n",
              "            + ' to learn more about interactive tables.';\n",
              "          element.innerHTML = '';\n",
              "          dataTable['output_type'] = 'display_data';\n",
              "          await google.colab.output.renderOutput(dataTable, element);\n",
              "          const docLink = document.createElement('div');\n",
              "          docLink.innerHTML = docLinkHtml;\n",
              "          element.appendChild(docLink);\n",
              "        }\n",
              "      </script>\n",
              "    </div>\n",
              "  </div>\n",
              "  "
            ],
            "text/plain": [
              "      id  ...                                               text\n",
              "0  20800  ...  PALO ALTO, Calif.  —   After years of scorning...\n",
              "1  20801  ...  Russian warships ready to strike terrorists ne...\n",
              "2  20802  ...  Videos #NoDAPL: Native American Leaders Vow to...\n",
              "3  20803  ...  If at first you don’t succeed, try a different...\n",
              "4  20804  ...  42 mins ago 1 Views 0 Comments 0 Likes 'For th...\n",
              "\n",
              "[5 rows x 4 columns]"
            ]
          },
          "metadata": {},
          "execution_count": 4
        }
      ]
    },
    {
      "cell_type": "markdown",
      "source": [
        "## Preprocessing, Text_cleaning and Feature engineering "
      ],
      "metadata": {
        "id": "TJ9KU_ZLKpyH"
      }
    },
    {
      "cell_type": "code",
      "source": [
        "import re\n",
        "from nltk.corpus import stopwords\n",
        "from nltk.stem import WordNetLemmatizer\n",
        "import nltk\n",
        "nltk.download('stopwords')\n",
        "nltk.download('wordnet')"
      ],
      "metadata": {
        "colab": {
          "base_uri": "https://localhost:8080/"
        },
        "id": "jBUR9w4rXSFa",
        "outputId": "7ec5dad1-1348-4d93-88ff-6bada2631151"
      },
      "execution_count": 5,
      "outputs": [
        {
          "output_type": "stream",
          "name": "stdout",
          "text": [
            "[nltk_data] Downloading package stopwords to /root/nltk_data...\n",
            "[nltk_data]   Unzipping corpora/stopwords.zip.\n",
            "[nltk_data] Downloading package wordnet to /root/nltk_data...\n",
            "[nltk_data]   Unzipping corpora/wordnet.zip.\n"
          ]
        },
        {
          "output_type": "execute_result",
          "data": {
            "text/plain": [
              "True"
            ]
          },
          "metadata": {},
          "execution_count": 5
        }
      ]
    },
    {
      "cell_type": "code",
      "source": [
        "# filling the nan text with first 20 words of title feature\n",
        "df.loc[df['text'].isna(), 'text'] = df.loc[df['text'].isna(), 'title']\n",
        "\n",
        "# filling the nan title with first 20 words of text feature\n",
        "df.loc[df['title'].isna(), 'title'] = df.loc[df['title'].isna(), 'text'].apply(lambda x: ' '.join(x.split()[:20]))\n",
        "\n",
        "df.author.fillna('unk_author',inplace=True)\n",
        "\n",
        "ps = WordNetLemmatizer()\n",
        "def preprocess(text):\n",
        "  x = re.sub('[^a-zA-Z0-9]', ' ', text)\n",
        "  x = x.lower()\n",
        "  x = x.split()\n",
        "  all_stopwords = stopwords.words('english')\n",
        "  all_stopwords.remove('not')\n",
        "  x = [ps.lemmatize(word) for word in x if word not in all_stopwords]\n",
        "  x = ' '.join(x)\n",
        "  return x\n",
        "\n",
        "\n",
        "df.text.fillna('', inplace=True)\n",
        "\n",
        "df['text'] = df.text.progress_apply(lambda x: preprocess(x))\n",
        "print('preprocessing of text done!')\n",
        "print('-' * 100)\n",
        "print()\n",
        "df['title'] = df.title.progress_apply(lambda x: preprocess(x))\n",
        "print('preprocessing of title done!')\n",
        "print('-' * 100)\n",
        "print()\n",
        "df['author'] = df.author.progress_apply(lambda x: preprocess(x))\n",
        "print('preprocessingof author done!')\n",
        "\n",
        "print('Feature engineering')\n",
        "# Calculating the word count of title feature\n",
        "df['title_len'] = df.title.progress_apply(lambda x: len(x.split()))\n",
        "\n",
        "# calculating the word count of text feature\n",
        "df['text_len'] = df.text.progress_apply(lambda x:len(x.split()))\n",
        "\n",
        "df['concat_title_text'] = df[['title','text']].progress_apply(lambda x: str(x[0]) + ' ' + str(x[1]),axis=1)\n",
        "\n",
        "df['concat_title_author'] = df[['title', 'author']].progress_apply(lambda x: x[0] + ' ' + x[1],axis=1)\n",
        "\n",
        "print('Feature engineering done!')"
      ],
      "metadata": {
        "colab": {
          "base_uri": "https://localhost:8080/"
        },
        "id": "R-78V7cIJgpE",
        "outputId": "59dd3fec-ea47-4d24-bc62-af8095af8564"
      },
      "execution_count": 6,
      "outputs": [
        {
          "output_type": "stream",
          "name": "stderr",
          "text": [
            "100%|██████████| 5200/5200 [00:25<00:00, 202.94it/s]\n"
          ]
        },
        {
          "output_type": "stream",
          "name": "stdout",
          "text": [
            "preprocessing of text done!\n",
            "----------------------------------------------------------------------------------------------------\n",
            "\n"
          ]
        },
        {
          "output_type": "stream",
          "name": "stderr",
          "text": [
            "100%|██████████| 5200/5200 [00:01<00:00, 4332.02it/s]\n"
          ]
        },
        {
          "output_type": "stream",
          "name": "stdout",
          "text": [
            "preprocessing of title done!\n",
            "----------------------------------------------------------------------------------------------------\n",
            "\n"
          ]
        },
        {
          "output_type": "stream",
          "name": "stderr",
          "text": [
            "100%|██████████| 5200/5200 [00:00<00:00, 6323.43it/s]\n"
          ]
        },
        {
          "output_type": "stream",
          "name": "stdout",
          "text": [
            "preprocessingof author done!\n",
            "Feature engineering\n"
          ]
        },
        {
          "output_type": "stream",
          "name": "stderr",
          "text": [
            "100%|██████████| 5200/5200 [00:00<00:00, 355663.96it/s]\n",
            "100%|██████████| 5200/5200 [00:00<00:00, 37580.46it/s]\n",
            "100%|██████████| 5200/5200 [00:00<00:00, 55070.04it/s]\n",
            "100%|██████████| 5200/5200 [00:00<00:00, 74505.80it/s]"
          ]
        },
        {
          "output_type": "stream",
          "name": "stdout",
          "text": [
            "Feature engineering done!\n"
          ]
        },
        {
          "output_type": "stream",
          "name": "stderr",
          "text": [
            "\n"
          ]
        }
      ]
    },
    {
      "cell_type": "markdown",
      "source": [
        "## Machine leanring:- Vectorization"
      ],
      "metadata": {
        "id": "GtX9JyGoKzKL"
      }
    },
    {
      "cell_type": "code",
      "source": [
        "one_hot_title_text_vect = joblib.load('/content/drive/MyDrive/fake_news/fake_news/one_hot_encoder_title_text')\n",
        "x_test_text_one_hot = one_hot_title_text_vect.transform(df.concat_title_text.values)\n",
        "\n",
        "one_hot_author_vect = joblib.load('/content/drive/MyDrive/fake_news/fake_news/one_hot_encoder_title_author')\n",
        "x_test_author_one_hot = one_hot_author_vect.transform(df.concat_title_author.values)\n",
        "\n",
        "\n",
        "tfidf_title_text_vect = joblib.load('/content/drive/MyDrive/fake_news/fake_news/tfidf_encoder_title_text')\n",
        "x_test_text_tfidf = tfidf_title_text_vect.transform(df.concat_title_text.values)\n",
        "\n",
        "tfidf_author_vect = joblib.load('/content/drive/MyDrive/fake_news/fake_news/tfidf_encoder_title_author')\n",
        "x_test_author_tfidf = tfidf_author_vect.transform(df.concat_title_author.values)"
      ],
      "metadata": {
        "id": "bTPzNdOxJgMB"
      },
      "execution_count": 11,
      "outputs": []
    },
    {
      "cell_type": "code",
      "source": [
        "text_len_min_max_scaler = joblib.load('/content/drive/MyDrive/fake_news/fake_news/text_len_min_max_scaler')\n",
        "text_len_values = text_len_min_max_scaler.transform(df.text_len.values.reshape(-1,1))\n",
        "\n",
        "title_len_min_max_scaler = joblib.load('/content/drive/MyDrive/fake_news/fake_news/title_len_min_max_scaler')\n",
        "title_len_values = title_len_min_max_scaler.transform(df.title_len.values.reshape(-1,1))"
      ],
      "metadata": {
        "id": "PJTMFkB_Rdo8"
      },
      "execution_count": 14,
      "outputs": []
    },
    {
      "cell_type": "code",
      "source": [
        "x_test_hstack_one_hot = sparse.hstack((x_test_text_one_hot, x_test_author_one_hot, \\\n",
        "                                text_len_values, title_len_values)).tocsr()\n",
        "\n",
        "x_test_hstack_tfidf = sparse.hstack((x_test_text_tfidf, x_test_author_tfidf, \\\n",
        "                                text_len_values, title_len_values)).tocsr()"
      ],
      "metadata": {
        "id": "DvlL8KKkJgIP"
      },
      "execution_count": 15,
      "outputs": []
    },
    {
      "cell_type": "code",
      "source": [
        "lr_one_hot_model = joblib.load('/content/drive/MyDrive/fake_news/fake_news/model_lr_one_hot')\n",
        "lr_test_one_hot = lr_one_hot_model.predict(x_test_hstack_one_hot)\n",
        "\n",
        "lr_tfidf_model = joblib.load('/content/drive/MyDrive/fake_news/fake_news/model_lr_tfidf')\n",
        "lr_test_tfidf = lr_tfidf_model.predict(x_test_hstack_tfidf)\n",
        "\n",
        "svm_one_hot_model = joblib.load('/content/drive/MyDrive/fake_news/fake_news/model_svc_one_hot')\n",
        "svm_test_one_hot = svm_one_hot_model.predict(x_test_hstack_one_hot)\n",
        "\n",
        "svm_tfidf_model = joblib.load('/content/drive/MyDrive/fake_news/fake_news/model_svc_tfidf')\n",
        "svm_test_tfidf = svm_tfidf_model.predict(x_test_hstack_tfidf)\n",
        "\n",
        "gbdt_one_hot_model = joblib.load('/content/drive/MyDrive/fake_news/fake_news/model_gbc_one_hot')\n",
        "gbdt_test_one_hot = gbdt_one_hot_model.predict(x_test_hstack_one_hot)\n",
        "\n",
        "gbdt_tfidf_model = joblib.load('/content/drive/MyDrive/fake_news/fake_news/model_gbc_tfifdf')\n",
        "gbdt_test_tfidf = gbdt_tfidf_model.predict(x_test_hstack_tfidf)"
      ],
      "metadata": {
        "id": "TIhhQX9KJgEg"
      },
      "execution_count": 17,
      "outputs": []
    },
    {
      "cell_type": "code",
      "source": [
        "dict_ = {}"
      ],
      "metadata": {
        "id": "D7YlOoUfT9n3"
      },
      "execution_count": 24,
      "outputs": []
    },
    {
      "cell_type": "code",
      "source": [
        "dict_['logistic regression one_hot encoding'] = lr_test_one_hot\n",
        "dict_['logistic regression tfidf encoding'] = lr_test_tfidf\n",
        "dict_['SVM one_hot encoding'] = svm_test_one_hot\n",
        "dict_['SVM tfidf encoding'] = svm_test_tfidf\n",
        "dict_['GBDT one_hot encoding'] = gbdt_test_one_hot\n",
        "dict_['GBDT tfidf encoding'] = gbdt_test_tfidf"
      ],
      "metadata": {
        "id": "__zW3Db_Sy7c"
      },
      "execution_count": 25,
      "outputs": []
    },
    {
      "cell_type": "code",
      "source": [
        ""
      ],
      "metadata": {
        "id": "ZHttx9M5JgAj"
      },
      "execution_count": null,
      "outputs": []
    },
    {
      "cell_type": "code",
      "source": [
        ""
      ],
      "metadata": {
        "id": "sqh1oksxJf9q"
      },
      "execution_count": null,
      "outputs": []
    },
    {
      "cell_type": "markdown",
      "source": [
        "## Vectorization:- Deep learning"
      ],
      "metadata": {
        "id": "70ENm3ciQYIJ"
      }
    },
    {
      "cell_type": "code",
      "source": [
        "import pandas as pd\n",
        "import numpy as np\n",
        "import joblib\n",
        "import datetime\n",
        "from tqdm import tqdm\n",
        "tqdm.pandas()\n",
        "from tensorflow.keras.preprocessing.sequence import pad_sequences"
      ],
      "metadata": {
        "id": "3qnwBsxtT4H-"
      },
      "execution_count": 26,
      "outputs": []
    },
    {
      "cell_type": "code",
      "source": [
        "import tensorflow \n",
        "from tensorflow.keras.preprocessing.sequence import pad_sequences\n",
        "from tensorflow.keras.models import Sequential\n",
        "from tensorflow.keras.layers import Embedding,Dropout, Conv1D, MaxPooling1D, LSTM, Dense\n",
        "from tensorflow.keras.preprocessing.sequence import pad_sequences\n",
        "from tensorflow.keras.preprocessing.text import Tokenizer\n",
        "import seaborn as sns\n",
        "import matplotlib.pyplot as plt\n",
        "from tensorflow import keras\n",
        "from tensorflow.keras import layers\n",
        "from tensorflow.keras.optimizers import Adam"
      ],
      "metadata": {
        "id": "Xm6SJiJBUyuw"
      },
      "execution_count": 27,
      "outputs": []
    },
    {
      "cell_type": "code",
      "source": [
        "df = pd.read_csv('test.csv')\n",
        "df.head()"
      ],
      "metadata": {
        "colab": {
          "base_uri": "https://localhost:8080/",
          "height": 206
        },
        "id": "1Olsu3beRxfw",
        "outputId": "3e1e98f2-fbdb-475f-a389-3e11182b5d11"
      },
      "execution_count": 28,
      "outputs": [
        {
          "output_type": "execute_result",
          "data": {
            "text/html": [
              "\n",
              "  <div id=\"df-bdb6ec1f-4958-4203-ac05-18b14d316352\">\n",
              "    <div class=\"colab-df-container\">\n",
              "      <div>\n",
              "<style scoped>\n",
              "    .dataframe tbody tr th:only-of-type {\n",
              "        vertical-align: middle;\n",
              "    }\n",
              "\n",
              "    .dataframe tbody tr th {\n",
              "        vertical-align: top;\n",
              "    }\n",
              "\n",
              "    .dataframe thead th {\n",
              "        text-align: right;\n",
              "    }\n",
              "</style>\n",
              "<table border=\"1\" class=\"dataframe\">\n",
              "  <thead>\n",
              "    <tr style=\"text-align: right;\">\n",
              "      <th></th>\n",
              "      <th>id</th>\n",
              "      <th>title</th>\n",
              "      <th>author</th>\n",
              "      <th>text</th>\n",
              "    </tr>\n",
              "  </thead>\n",
              "  <tbody>\n",
              "    <tr>\n",
              "      <th>0</th>\n",
              "      <td>20800</td>\n",
              "      <td>Specter of Trump Loosens Tongues, if Not Purse...</td>\n",
              "      <td>David Streitfeld</td>\n",
              "      <td>PALO ALTO, Calif.  —   After years of scorning...</td>\n",
              "    </tr>\n",
              "    <tr>\n",
              "      <th>1</th>\n",
              "      <td>20801</td>\n",
              "      <td>Russian warships ready to strike terrorists ne...</td>\n",
              "      <td>NaN</td>\n",
              "      <td>Russian warships ready to strike terrorists ne...</td>\n",
              "    </tr>\n",
              "    <tr>\n",
              "      <th>2</th>\n",
              "      <td>20802</td>\n",
              "      <td>#NoDAPL: Native American Leaders Vow to Stay A...</td>\n",
              "      <td>Common Dreams</td>\n",
              "      <td>Videos #NoDAPL: Native American Leaders Vow to...</td>\n",
              "    </tr>\n",
              "    <tr>\n",
              "      <th>3</th>\n",
              "      <td>20803</td>\n",
              "      <td>Tim Tebow Will Attempt Another Comeback, This ...</td>\n",
              "      <td>Daniel Victor</td>\n",
              "      <td>If at first you don’t succeed, try a different...</td>\n",
              "    </tr>\n",
              "    <tr>\n",
              "      <th>4</th>\n",
              "      <td>20804</td>\n",
              "      <td>Keiser Report: Meme Wars (E995)</td>\n",
              "      <td>Truth Broadcast Network</td>\n",
              "      <td>42 mins ago 1 Views 0 Comments 0 Likes 'For th...</td>\n",
              "    </tr>\n",
              "  </tbody>\n",
              "</table>\n",
              "</div>\n",
              "      <button class=\"colab-df-convert\" onclick=\"convertToInteractive('df-bdb6ec1f-4958-4203-ac05-18b14d316352')\"\n",
              "              title=\"Convert this dataframe to an interactive table.\"\n",
              "              style=\"display:none;\">\n",
              "        \n",
              "  <svg xmlns=\"http://www.w3.org/2000/svg\" height=\"24px\"viewBox=\"0 0 24 24\"\n",
              "       width=\"24px\">\n",
              "    <path d=\"M0 0h24v24H0V0z\" fill=\"none\"/>\n",
              "    <path d=\"M18.56 5.44l.94 2.06.94-2.06 2.06-.94-2.06-.94-.94-2.06-.94 2.06-2.06.94zm-11 1L8.5 8.5l.94-2.06 2.06-.94-2.06-.94L8.5 2.5l-.94 2.06-2.06.94zm10 10l.94 2.06.94-2.06 2.06-.94-2.06-.94-.94-2.06-.94 2.06-2.06.94z\"/><path d=\"M17.41 7.96l-1.37-1.37c-.4-.4-.92-.59-1.43-.59-.52 0-1.04.2-1.43.59L10.3 9.45l-7.72 7.72c-.78.78-.78 2.05 0 2.83L4 21.41c.39.39.9.59 1.41.59.51 0 1.02-.2 1.41-.59l7.78-7.78 2.81-2.81c.8-.78.8-2.07 0-2.86zM5.41 20L4 18.59l7.72-7.72 1.47 1.35L5.41 20z\"/>\n",
              "  </svg>\n",
              "      </button>\n",
              "      \n",
              "  <style>\n",
              "    .colab-df-container {\n",
              "      display:flex;\n",
              "      flex-wrap:wrap;\n",
              "      gap: 12px;\n",
              "    }\n",
              "\n",
              "    .colab-df-convert {\n",
              "      background-color: #E8F0FE;\n",
              "      border: none;\n",
              "      border-radius: 50%;\n",
              "      cursor: pointer;\n",
              "      display: none;\n",
              "      fill: #1967D2;\n",
              "      height: 32px;\n",
              "      padding: 0 0 0 0;\n",
              "      width: 32px;\n",
              "    }\n",
              "\n",
              "    .colab-df-convert:hover {\n",
              "      background-color: #E2EBFA;\n",
              "      box-shadow: 0px 1px 2px rgba(60, 64, 67, 0.3), 0px 1px 3px 1px rgba(60, 64, 67, 0.15);\n",
              "      fill: #174EA6;\n",
              "    }\n",
              "\n",
              "    [theme=dark] .colab-df-convert {\n",
              "      background-color: #3B4455;\n",
              "      fill: #D2E3FC;\n",
              "    }\n",
              "\n",
              "    [theme=dark] .colab-df-convert:hover {\n",
              "      background-color: #434B5C;\n",
              "      box-shadow: 0px 1px 3px 1px rgba(0, 0, 0, 0.15);\n",
              "      filter: drop-shadow(0px 1px 2px rgba(0, 0, 0, 0.3));\n",
              "      fill: #FFFFFF;\n",
              "    }\n",
              "  </style>\n",
              "\n",
              "      <script>\n",
              "        const buttonEl =\n",
              "          document.querySelector('#df-bdb6ec1f-4958-4203-ac05-18b14d316352 button.colab-df-convert');\n",
              "        buttonEl.style.display =\n",
              "          google.colab.kernel.accessAllowed ? 'block' : 'none';\n",
              "\n",
              "        async function convertToInteractive(key) {\n",
              "          const element = document.querySelector('#df-bdb6ec1f-4958-4203-ac05-18b14d316352');\n",
              "          const dataTable =\n",
              "            await google.colab.kernel.invokeFunction('convertToInteractive',\n",
              "                                                     [key], {});\n",
              "          if (!dataTable) return;\n",
              "\n",
              "          const docLinkHtml = 'Like what you see? Visit the ' +\n",
              "            '<a target=\"_blank\" href=https://colab.research.google.com/notebooks/data_table.ipynb>data table notebook</a>'\n",
              "            + ' to learn more about interactive tables.';\n",
              "          element.innerHTML = '';\n",
              "          dataTable['output_type'] = 'display_data';\n",
              "          await google.colab.output.renderOutput(dataTable, element);\n",
              "          const docLink = document.createElement('div');\n",
              "          docLink.innerHTML = docLinkHtml;\n",
              "          element.appendChild(docLink);\n",
              "        }\n",
              "      </script>\n",
              "    </div>\n",
              "  </div>\n",
              "  "
            ],
            "text/plain": [
              "      id  ...                                               text\n",
              "0  20800  ...  PALO ALTO, Calif.  —   After years of scorning...\n",
              "1  20801  ...  Russian warships ready to strike terrorists ne...\n",
              "2  20802  ...  Videos #NoDAPL: Native American Leaders Vow to...\n",
              "3  20803  ...  If at first you don’t succeed, try a different...\n",
              "4  20804  ...  42 mins ago 1 Views 0 Comments 0 Likes 'For th...\n",
              "\n",
              "[5 rows x 4 columns]"
            ]
          },
          "metadata": {},
          "execution_count": 28
        }
      ]
    },
    {
      "cell_type": "code",
      "source": [
        "df.title.fillna(' ', inplace=True)\n",
        "df.text.fillna(' ', inplace=True)\n",
        "df.author.fillna(' ', inplace=True)"
      ],
      "metadata": {
        "id": "eb5INr1ORqmv"
      },
      "execution_count": 29,
      "outputs": []
    },
    {
      "cell_type": "code",
      "source": [
        "df['title_author'] = df[['title', 'author']].progress_apply(lambda x: x[0] + ' ' + x[1], axis=1)\n",
        "df['title_author_text'] = df[['title', 'author', 'text']].progress_apply(lambda x: x[0] + ' ' + x[1] + ' ' + ' '.join(x[2].split()[:100]), axis=1)"
      ],
      "metadata": {
        "colab": {
          "base_uri": "https://localhost:8080/"
        },
        "id": "V67FVeKeR0rP",
        "outputId": "f8574873-e02e-4115-e8b0-4ebcec2f39d8"
      },
      "execution_count": 30,
      "outputs": [
        {
          "output_type": "stream",
          "name": "stderr",
          "text": [
            "100%|██████████| 5200/5200 [00:00<00:00, 79540.71it/s]\n",
            "100%|██████████| 5200/5200 [00:00<00:00, 13506.62it/s]\n"
          ]
        }
      ]
    },
    {
      "cell_type": "code",
      "source": [
        "x_test = df[['title_author', 'title_author_text']]"
      ],
      "metadata": {
        "id": "NoA96y_tR4Hh"
      },
      "execution_count": 31,
      "outputs": []
    },
    {
      "cell_type": "code",
      "source": [
        "def text_to_sequences(train, test, file_name, training):\n",
        "  '''\n",
        "      function to perform text tokenizer \n",
        "      returns train_tokenizer and test_tokenizer\n",
        "  '''\n",
        "\n",
        "  if training:\n",
        "    tokenizer = Tokenizer()\n",
        "    tokenizer.fit_on_texts(train.astype(str))\n",
        "    train_text = tokenizer.texts_to_sequences(train.astype(str))\n",
        "    test_text  = tokenizer.texts_to_sequences(test.astype(str))\n",
        "    joblib.dump(tokenizer, open('/content/drive/MyDrive/fake_news/Deep_learning/tokenizer/' + file_name , 'wb'))\n",
        "\n",
        "    return train_text, test_text, tokenizer\n",
        "  else:\n",
        "    tokenizer = joblib.load(open('/content/drive/MyDrive/fake_news/Deep_learning/tokenizer/' + file_name , 'rb'))\n",
        "    test_text = tokenizer.texts_to_sequences(test)\n",
        "    return test_text\n",
        "\n",
        "\n",
        "def text_padding(train, test, length, training):\n",
        "  '''\n",
        "      function to perform post-padding of sequences\n",
        "      returns padding_train, padding_test\n",
        "  '''\n",
        "  \n",
        "  if training:\n",
        "    train = pad_sequences(train, maxlen=length, padding='pre')\n",
        "    test  = pad_sequences(test,  maxlen=length, padding='pre')\n",
        "\n",
        "    return train, test\n",
        "  \n",
        "  else:\n",
        "    test_ = pad_sequences(test,  maxlen=length, padding='pre')\n",
        "    \n",
        "    return test_"
      ],
      "metadata": {
        "id": "4oLAFCY0Jf6Z"
      },
      "execution_count": 32,
      "outputs": []
    },
    {
      "cell_type": "code",
      "source": [
        "x_test_author_token = text_to_sequences(x_test.title_author.values, x_test.title_author.values, 'title_author', False)\n",
        "x_test_author_text_token = text_to_sequences(x_test.title_author_text.values, x_test.title_author_text.values, 'title_author_text', False)"
      ],
      "metadata": {
        "id": "0SQg_YYgR4Dw"
      },
      "execution_count": 33,
      "outputs": []
    },
    {
      "cell_type": "code",
      "source": [
        "max_length_author = 20\n",
        "max_length_author_text = 125\n",
        "\n",
        "# padding the text data\n",
        "x_test_author_padded = text_padding(x_test_author_token, x_test_author_token, max_length_author, False)\n",
        "x_test_author_text_padded = text_padding(x_test_author_token, x_test_author_token, max_length_author_text, False)"
      ],
      "metadata": {
        "id": "3_BV32wKRpr8"
      },
      "execution_count": 34,
      "outputs": []
    },
    {
      "cell_type": "code",
      "source": [
        "x_test = [x_test_author_padded, x_test_author_text_padded]"
      ],
      "metadata": {
        "id": "mv4VewcYTIMZ"
      },
      "execution_count": 35,
      "outputs": []
    },
    {
      "cell_type": "code",
      "source": [
        "model_lstm = keras.models.load_model('/content/drive/MyDrive/fake_news/Deep_learning/models/model_lstm.hdf5')\n",
        "lstm_predicted = model_lstm.predict(x_test)"
      ],
      "metadata": {
        "id": "DVZmmxlARppR"
      },
      "execution_count": 36,
      "outputs": []
    },
    {
      "cell_type": "code",
      "source": [
        "lstm_predicted = ((lstm_predicted > 0.5) + 0).ravel()"
      ],
      "metadata": {
        "id": "XObjZflyU2JY"
      },
      "execution_count": 43,
      "outputs": []
    },
    {
      "cell_type": "code",
      "source": [
        "dict_['lstm'] = lstm_predicted"
      ],
      "metadata": {
        "id": "P9fnf7oSVUM6"
      },
      "execution_count": 44,
      "outputs": []
    },
    {
      "cell_type": "code",
      "source": [
        "model_cnn = keras.models.load_model('/content/drive/MyDrive/fake_news/Deep_learning/models/model_cnn.hdf5')\n",
        "cnn_predicted = model_cnn.predict(x_test)"
      ],
      "metadata": {
        "id": "aDSQQjSqRpmC"
      },
      "execution_count": 45,
      "outputs": []
    },
    {
      "cell_type": "code",
      "source": [
        "cnn_predicted = ((cnn_predicted > 0.5) + 0).ravel()"
      ],
      "metadata": {
        "id": "CBvfhfH3VW2Y"
      },
      "execution_count": 46,
      "outputs": []
    },
    {
      "cell_type": "code",
      "source": [
        "dict_['cnn'] = cnn_predicted"
      ],
      "metadata": {
        "id": "yxgJUzK-YPjM"
      },
      "execution_count": 47,
      "outputs": []
    },
    {
      "cell_type": "code",
      "source": [
        "model_lstm_cnn = keras.models.load_model('/content/drive/MyDrive/fake_news/Deep_learning/models/model_lstm_cnn.hdf5')\n",
        "lstm_cnn_predicted = model_lstm_cnn.predict(x_test)"
      ],
      "metadata": {
        "id": "bQcgMa2mRpih"
      },
      "execution_count": 48,
      "outputs": []
    },
    {
      "cell_type": "code",
      "source": [
        "lstm_cnn_predicted = ((lstm_cnn_predicted > 0.5) + 0).ravel()"
      ],
      "metadata": {
        "id": "m3uZAkkkVfYu"
      },
      "execution_count": 49,
      "outputs": []
    },
    {
      "cell_type": "code",
      "source": [
        "dict_['lstm_cnn'] = lstm_cnn_predicted"
      ],
      "metadata": {
        "id": "Xb7EL7aSYRon"
      },
      "execution_count": 50,
      "outputs": []
    },
    {
      "cell_type": "code",
      "source": [
        "predicted_df = pd.DataFrame(dict_)"
      ],
      "metadata": {
        "id": "zHq2iSJvYhD-"
      },
      "execution_count": 52,
      "outputs": []
    },
    {
      "cell_type": "code",
      "source": [
        "predicted_df.head()"
      ],
      "metadata": {
        "colab": {
          "base_uri": "https://localhost:8080/",
          "height": 268
        },
        "id": "771uS9kEV-K3",
        "outputId": "211e8356-901a-4cb9-84ad-e48db570e0c4"
      },
      "execution_count": 53,
      "outputs": [
        {
          "output_type": "execute_result",
          "data": {
            "text/html": [
              "\n",
              "  <div id=\"df-fb50ce1b-871b-42fb-8263-2bf4128faef3\">\n",
              "    <div class=\"colab-df-container\">\n",
              "      <div>\n",
              "<style scoped>\n",
              "    .dataframe tbody tr th:only-of-type {\n",
              "        vertical-align: middle;\n",
              "    }\n",
              "\n",
              "    .dataframe tbody tr th {\n",
              "        vertical-align: top;\n",
              "    }\n",
              "\n",
              "    .dataframe thead th {\n",
              "        text-align: right;\n",
              "    }\n",
              "</style>\n",
              "<table border=\"1\" class=\"dataframe\">\n",
              "  <thead>\n",
              "    <tr style=\"text-align: right;\">\n",
              "      <th></th>\n",
              "      <th>logistic regression one_hot encoding</th>\n",
              "      <th>logistic regression tfidf encoding</th>\n",
              "      <th>SVM one_hot encoding</th>\n",
              "      <th>SVM tfidf encoding</th>\n",
              "      <th>GBDT one_hot encoding</th>\n",
              "      <th>GBDT tfidf encoding</th>\n",
              "      <th>lstm</th>\n",
              "      <th>cnn</th>\n",
              "      <th>lstm_cnn</th>\n",
              "    </tr>\n",
              "  </thead>\n",
              "  <tbody>\n",
              "    <tr>\n",
              "      <th>0</th>\n",
              "      <td>0</td>\n",
              "      <td>0</td>\n",
              "      <td>0</td>\n",
              "      <td>0</td>\n",
              "      <td>0</td>\n",
              "      <td>0</td>\n",
              "      <td>0</td>\n",
              "      <td>1</td>\n",
              "      <td>1</td>\n",
              "    </tr>\n",
              "    <tr>\n",
              "      <th>1</th>\n",
              "      <td>1</td>\n",
              "      <td>1</td>\n",
              "      <td>1</td>\n",
              "      <td>1</td>\n",
              "      <td>1</td>\n",
              "      <td>1</td>\n",
              "      <td>1</td>\n",
              "      <td>1</td>\n",
              "      <td>1</td>\n",
              "    </tr>\n",
              "    <tr>\n",
              "      <th>2</th>\n",
              "      <td>1</td>\n",
              "      <td>1</td>\n",
              "      <td>1</td>\n",
              "      <td>1</td>\n",
              "      <td>1</td>\n",
              "      <td>1</td>\n",
              "      <td>1</td>\n",
              "      <td>1</td>\n",
              "      <td>1</td>\n",
              "    </tr>\n",
              "    <tr>\n",
              "      <th>3</th>\n",
              "      <td>0</td>\n",
              "      <td>0</td>\n",
              "      <td>0</td>\n",
              "      <td>0</td>\n",
              "      <td>0</td>\n",
              "      <td>0</td>\n",
              "      <td>0</td>\n",
              "      <td>0</td>\n",
              "      <td>0</td>\n",
              "    </tr>\n",
              "    <tr>\n",
              "      <th>4</th>\n",
              "      <td>1</td>\n",
              "      <td>1</td>\n",
              "      <td>1</td>\n",
              "      <td>1</td>\n",
              "      <td>1</td>\n",
              "      <td>1</td>\n",
              "      <td>1</td>\n",
              "      <td>1</td>\n",
              "      <td>1</td>\n",
              "    </tr>\n",
              "  </tbody>\n",
              "</table>\n",
              "</div>\n",
              "      <button class=\"colab-df-convert\" onclick=\"convertToInteractive('df-fb50ce1b-871b-42fb-8263-2bf4128faef3')\"\n",
              "              title=\"Convert this dataframe to an interactive table.\"\n",
              "              style=\"display:none;\">\n",
              "        \n",
              "  <svg xmlns=\"http://www.w3.org/2000/svg\" height=\"24px\"viewBox=\"0 0 24 24\"\n",
              "       width=\"24px\">\n",
              "    <path d=\"M0 0h24v24H0V0z\" fill=\"none\"/>\n",
              "    <path d=\"M18.56 5.44l.94 2.06.94-2.06 2.06-.94-2.06-.94-.94-2.06-.94 2.06-2.06.94zm-11 1L8.5 8.5l.94-2.06 2.06-.94-2.06-.94L8.5 2.5l-.94 2.06-2.06.94zm10 10l.94 2.06.94-2.06 2.06-.94-2.06-.94-.94-2.06-.94 2.06-2.06.94z\"/><path d=\"M17.41 7.96l-1.37-1.37c-.4-.4-.92-.59-1.43-.59-.52 0-1.04.2-1.43.59L10.3 9.45l-7.72 7.72c-.78.78-.78 2.05 0 2.83L4 21.41c.39.39.9.59 1.41.59.51 0 1.02-.2 1.41-.59l7.78-7.78 2.81-2.81c.8-.78.8-2.07 0-2.86zM5.41 20L4 18.59l7.72-7.72 1.47 1.35L5.41 20z\"/>\n",
              "  </svg>\n",
              "      </button>\n",
              "      \n",
              "  <style>\n",
              "    .colab-df-container {\n",
              "      display:flex;\n",
              "      flex-wrap:wrap;\n",
              "      gap: 12px;\n",
              "    }\n",
              "\n",
              "    .colab-df-convert {\n",
              "      background-color: #E8F0FE;\n",
              "      border: none;\n",
              "      border-radius: 50%;\n",
              "      cursor: pointer;\n",
              "      display: none;\n",
              "      fill: #1967D2;\n",
              "      height: 32px;\n",
              "      padding: 0 0 0 0;\n",
              "      width: 32px;\n",
              "    }\n",
              "\n",
              "    .colab-df-convert:hover {\n",
              "      background-color: #E2EBFA;\n",
              "      box-shadow: 0px 1px 2px rgba(60, 64, 67, 0.3), 0px 1px 3px 1px rgba(60, 64, 67, 0.15);\n",
              "      fill: #174EA6;\n",
              "    }\n",
              "\n",
              "    [theme=dark] .colab-df-convert {\n",
              "      background-color: #3B4455;\n",
              "      fill: #D2E3FC;\n",
              "    }\n",
              "\n",
              "    [theme=dark] .colab-df-convert:hover {\n",
              "      background-color: #434B5C;\n",
              "      box-shadow: 0px 1px 3px 1px rgba(0, 0, 0, 0.15);\n",
              "      filter: drop-shadow(0px 1px 2px rgba(0, 0, 0, 0.3));\n",
              "      fill: #FFFFFF;\n",
              "    }\n",
              "  </style>\n",
              "\n",
              "      <script>\n",
              "        const buttonEl =\n",
              "          document.querySelector('#df-fb50ce1b-871b-42fb-8263-2bf4128faef3 button.colab-df-convert');\n",
              "        buttonEl.style.display =\n",
              "          google.colab.kernel.accessAllowed ? 'block' : 'none';\n",
              "\n",
              "        async function convertToInteractive(key) {\n",
              "          const element = document.querySelector('#df-fb50ce1b-871b-42fb-8263-2bf4128faef3');\n",
              "          const dataTable =\n",
              "            await google.colab.kernel.invokeFunction('convertToInteractive',\n",
              "                                                     [key], {});\n",
              "          if (!dataTable) return;\n",
              "\n",
              "          const docLinkHtml = 'Like what you see? Visit the ' +\n",
              "            '<a target=\"_blank\" href=https://colab.research.google.com/notebooks/data_table.ipynb>data table notebook</a>'\n",
              "            + ' to learn more about interactive tables.';\n",
              "          element.innerHTML = '';\n",
              "          dataTable['output_type'] = 'display_data';\n",
              "          await google.colab.output.renderOutput(dataTable, element);\n",
              "          const docLink = document.createElement('div');\n",
              "          docLink.innerHTML = docLinkHtml;\n",
              "          element.appendChild(docLink);\n",
              "        }\n",
              "      </script>\n",
              "    </div>\n",
              "  </div>\n",
              "  "
            ],
            "text/plain": [
              "   logistic regression one_hot encoding  ...  lstm_cnn\n",
              "0                                     0  ...         1\n",
              "1                                     1  ...         1\n",
              "2                                     1  ...         1\n",
              "3                                     0  ...         0\n",
              "4                                     1  ...         1\n",
              "\n",
              "[5 rows x 9 columns]"
            ]
          },
          "metadata": {},
          "execution_count": 53
        }
      ]
    },
    {
      "cell_type": "code",
      "source": [
        "predicted_df['label'] = predicted_df.mode(axis=1)"
      ],
      "metadata": {
        "id": "_TnBI0Q3WACy"
      },
      "execution_count": 63,
      "outputs": []
    },
    {
      "cell_type": "code",
      "source": [
        "predicted_df['id'] = df.id.values"
      ],
      "metadata": {
        "id": "6xbTDQjUWXrs"
      },
      "execution_count": 59,
      "outputs": []
    },
    {
      "cell_type": "code",
      "source": [
        "predicted_df[['id','label']].to_csv('submit.csv',index=False)"
      ],
      "metadata": {
        "id": "uB5OiTYQWYxr"
      },
      "execution_count": 65,
      "outputs": []
    }
  ]
}